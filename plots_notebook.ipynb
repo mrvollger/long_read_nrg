{
 "cells": [
  {
   "cell_type": "code",
   "execution_count": 19,
   "metadata": {},
   "outputs": [],
   "source": [
    "%matplotlib inline\n",
    "import pysam\n",
    "import pandas as pd\n",
    "import numpy as np\n",
    "import matplotlib\n",
    "import sys\n",
    "import os\n",
    "#matplotlib.use('Agg')\n",
    "import seaborn as sns\n",
    "import matplotlib.pyplot as plt\n",
    "from Bio import SeqIO\n",
    "from intervaltree import Interval, IntervalTree\n",
    "import glob\n",
    "np.random.seed(0)\n",
    "import os\n",
    "import sys\n",
    "\n",
    "ODIR=\"plots\"\n",
    "os.makedirs(ODIR, exist_ok=True)\n",
    "\n",
    "# color map \n",
    "cmap  = {\"sqII.clr\":\"#6FC1E3\", 'ccs':\"#3a3535\", 'rel3.ontucd':\"#6DDA96\",  'rel3.ontuwashington':\"#a35638\" }\n",
    "# minimum homopolymer length to look at\n",
    "MIN_LEN_HP=5"
   ]
  },
  {
   "cell_type": "code",
   "execution_count": 3,
   "metadata": {
    "scrolled": true
   },
   "outputs": [
    {
     "name": "stderr",
     "output_type": "stream",
     "text": [
      "/net/eichler/vol26/7200/software/modules-sw/miniconda/4.5.12/Linux/RHEL6/x86_64/envs/python3/lib/python3.6/site-packages/ipykernel_launcher.py:5: RuntimeWarning: divide by zero encountered in log10\n",
      "  \"\"\"\n",
      "/net/eichler/vol26/7200/software/modules-sw/miniconda/4.5.12/Linux/RHEL6/x86_64/envs/python3/lib/python3.6/site-packages/ipykernel_launcher.py:6: RuntimeWarning: divide by zero encountered in log10\n",
      "  \n"
     ]
    }
   ],
   "source": [
    "### READ IN THE READ LENGTH AND QUALITY DATA ###\n",
    "\n",
    "tdf = pd.read_csv(\"results/all.txt\", sep=\"\\t\", names=[\"length\", \"read_id\", \"matchID\", \"indelID\",\"platform\", \"contig\"])\n",
    "\n",
    "# calculate QV from the identity of the alignment \n",
    "tdf[\"basepair QV\"] = -10 * np.log10( 1 - tdf[\"matchID\"] )\n",
    "tdf[\"indel QV\"] = -10 * np.log10( 1 - tdf[\"indelID\"] )\n",
    "\n",
    "# Note that on the plot we labeled QV 43 as \"prefect\" reads\n",
    "tdf[\"basepair QV\"].replace([np.inf, -np.inf, np.nan], 43, inplace=True)\n",
    "tdf[\"indel QV\"].replace([np.inf, -np.inf, np.nan], 43, inplace=True)\n",
    "\n",
    "\n",
    "tdf[\"indelID\"] = tdf[\"indelID\"]*100\n",
    "\n",
    "# associate ont read ids by the center they came from \n",
    "dfs = []\n",
    "for file in glob.glob(\"../data/rel3_ont/*.ids\"):\n",
    "    tag = os.path.basename(file)[:-4]\n",
    "    tmp = pd.read_csv(file, names=[\"read_id\"])\n",
    "    tmp[\"center\"] = tag\n",
    "    dfs.append(tmp)\n",
    "\n",
    "reads_by_center = pd.concat(dfs, ignore_index=True)\n",
    "\n",
    "df = pd.merge(tdf, reads_by_center, how=\"left\", on=[\"read_id\"])\n",
    "df.center.fillna('', inplace=True)\n",
    "df[\"platform\"] = df.platform + df.center\n",
    "\n",
    "df.platform.unique()\n",
    "\n",
    "# make different data frames for length and accuracy \n",
    "for_len = df \n",
    "for_qv = df \n",
    "if(\"chrX_v0.8|arrow|arrow\" in for_len.contig):\n",
    "    for_len[for_len.contig ==  \"chrX_v0.8|arrow|arrow\"]\n",
    "    "
   ]
  },
  {
   "cell_type": "code",
   "execution_count": null,
   "metadata": {},
   "outputs": [],
   "source": [
    "\n"
   ]
  },
  {
   "cell_type": "code",
   "execution_count": 4,
   "metadata": {},
   "outputs": [],
   "source": [
    "# custom histogram plotting function\n",
    "def plot_hist(df, log=False, nbins=None,  column = \"length\", alpha = 1, ax=None, ylab=None, xlab=None,right=None, xmax = None, **kwargs):\n",
    "    if(ax is None):\n",
    "        fig, ax = plt.subplots(1,1, figsize=(16,9))\n",
    "    tmax=0\n",
    "    tmax=df[column].max()\n",
    "    nbins=50\n",
    "    \n",
    "    for tech in df.platform.unique():\n",
    "        color = None\n",
    "        if(tech in cmap):\n",
    "            color = cmap[tech]\n",
    "        \n",
    "        tmin = 0\n",
    "        if(column ==\"indel QV\"):\n",
    "            tmin=3; tmax=45\n",
    "            nbins = 43*5\n",
    "        if(column == \"length\"):\n",
    "            if(right):\n",
    "                tmax = np.ceil( right/1000   )*1000\n",
    "            else:\n",
    "                tmax = np.ceil( df[column][df.platform == tech].max()/1000   )*1000\n",
    "            nbins = tmax/1000 +1\n",
    "            \n",
    "       \n",
    "        if(log):\n",
    "            tmin = 100 #df[column].min()\n",
    "            if(column==\"indelID\"): tmin = 50\n",
    "            print( np.log10(tmin),np.log10(tmax) , tmin, tmax)\n",
    "            bins = np.logspace(np.log10(tmin),np.log10(tmax), 200) \n",
    "        else:\n",
    "             bins = np.linspace(tmin, tmax, nbins)\n",
    "        \n",
    "        touse = df[column][df.platform == tech]\n",
    "        total = len(touse)\n",
    "        sns.distplot(touse, ax = ax, bins=bins, color=color, \n",
    "                     hist_kws=dict(edgecolor=\"k\", linewidth=0.25, alpha=alpha, weights=np.ones(total)*1./total ), \n",
    "                     **kwargs, label=tech)\n",
    "        \n",
    "    if(log):\n",
    "        ax.set_xscale(\"log\")\n",
    "\n",
    "    ax.get_xaxis().set_major_formatter( matplotlib.ticker.FuncFormatter(lambda x, p: format(int(x), ',')))\n",
    "    sns.despine(ax=ax)\n",
    "\n",
    "    if(column == \"indel QV\"):\n",
    "        ax.set_xlim(left=3, right=45)\n",
    "        ax.set_xticklabels( [  \"{:.2f}\".format(  100* (1 - 10**(-QV/10)   ))  for QV in ax.get_xticks() ] )\n",
    "        \n",
    "    if(column == \"length\"):\n",
    "        ax.set_xlim(left=0)\n",
    "    \n",
    "    if(xlab):\n",
    "        ax.set_xlabel(xlab)\n",
    "    if(ylab):\n",
    "        ax.set_ylabel(ylab)\n",
    "    ax.legend(loc='upper right')\n",
    "    return(ax)\n",
    "\n"
   ]
  },
  {
   "cell_type": "code",
   "execution_count": 15,
   "metadata": {},
   "outputs": [
    {
     "name": "stdout",
     "output_type": "stream",
     "text": [
      "2.0 6.819478128362123 100 6599000.0\n"
     ]
    },
    {
     "name": "stderr",
     "output_type": "stream",
     "text": [
      "/net/eichler/vol26/7200/software/modules-sw/miniconda/4.5.12/Linux/RHEL6/x86_64/envs/python3/lib/python3.6/site-packages/ipykernel_launcher.py:51: UserWarning: Attempted to set non-positive left xlim on a log-scaled axis.\n",
      "Invalid limit will be ignored.\n"
     ]
    },
    {
     "name": "stdout",
     "output_type": "stream",
     "text": [
      "2.0 6.819478128362123 100 6599000.0\n"
     ]
    },
    {
     "name": "stderr",
     "output_type": "stream",
     "text": [
      "/net/eichler/vol26/7200/software/modules-sw/miniconda/4.5.12/Linux/RHEL6/x86_64/envs/python3/lib/python3.6/site-packages/ipykernel_launcher.py:51: UserWarning: Attempted to set non-positive left xlim on a log-scaled axis.\n",
      "Invalid limit will be ignored.\n"
     ]
    },
    {
     "name": "stdout",
     "output_type": "stream",
     "text": [
      "2.0 6.819478128362123 100 6599000.0\n"
     ]
    },
    {
     "name": "stderr",
     "output_type": "stream",
     "text": [
      "/net/eichler/vol26/7200/software/modules-sw/miniconda/4.5.12/Linux/RHEL6/x86_64/envs/python3/lib/python3.6/site-packages/ipykernel_launcher.py:51: UserWarning: Attempted to set non-positive left xlim on a log-scaled axis.\n",
      "Invalid limit will be ignored.\n"
     ]
    },
    {
     "name": "stdout",
     "output_type": "stream",
     "text": [
      "2.0 6.819478128362123 100 6599000.0\n"
     ]
    },
    {
     "name": "stderr",
     "output_type": "stream",
     "text": [
      "/net/eichler/vol26/7200/software/modules-sw/miniconda/4.5.12/Linux/RHEL6/x86_64/envs/python3/lib/python3.6/site-packages/ipykernel_launcher.py:51: UserWarning: Attempted to set non-positive left xlim on a log-scaled axis.\n",
      "Invalid limit will be ignored.\n"
     ]
    },
    {
     "data": {
      "image/png": "[encoded data removed]",
      "text/plain": [
       "<Figure size 1152x576 with 4 Axes>"
      ]
     },
     "metadata": {
      "needs_background": "light"
     },
     "output_type": "display_data"
    },
    {
     "data": {
      "image/png": "[encoded data removed]",
      "text/plain": [
       "<Figure size 1152x576 with 4 Axes>"
      ]
     },
     "metadata": {
      "needs_background": "light"
     },
     "output_type": "display_data"
    }
   ],
   "source": [
    "# Make plots for length and accuracy \n",
    "sns.set_context(\"poster\")\n",
    "touse = [\"sqII.clr\",\"ccs\", \"rel3.ontucd\", 'rel3.ontuwashington']\n",
    "right = for_len.length.max()\n",
    "fig, axs = plt.subplots(len(touse), 1, figsize=(16,8), sharex=True)\n",
    "for ax, plat in zip(axs, touse ):\n",
    "    plot_hist(for_len[for_len.platform==plat ], \n",
    "              ax=ax, log=True, alpha =1, kde=False, right = right)\n",
    "    ax.set_xlabel(\"\"); ax.set_ylabel(\"\"); ax.get_legend().remove()\n",
    "\n",
    "fig.legend(loc=\"upper center\", ncol=len(touse))\n",
    "plt.savefig(f\"{ODIR}/combo.length_2.pdf\")\n",
    "plt.savefig(f\"{ODIR}/combo.length_2.png\", dpi=300)\n",
    "\n",
    "fig, axs = plt.subplots(len(touse), 1, figsize=(16,8), sharex=True)\n",
    "for ax, plat in zip(axs, touse ):\n",
    "    plot_hist(for_len[for_len.platform==plat ], ax=ax, column=\"indel QV\", alpha =1, kde=False)\n",
    "    ax.set_xlabel(\"\"); ax.set_ylabel(\"\"); ax.get_legend().remove()\n",
    "\n",
    "fig.legend(loc=\"upper center\", ncol=len(touse))\n",
    "plt.savefig(f\"{ODIR}/combo.accuracy_2.pdf\")\n",
    "plt.savefig(f\"{ODIR}/combo.accuracy_2.png\", dpi=300)\n"
   ]
  },
  {
   "cell_type": "code",
   "execution_count": null,
   "metadata": {
    "scrolled": false
   },
   "outputs": [],
   "source": []
  },
  {
   "cell_type": "code",
   "execution_count": null,
   "metadata": {},
   "outputs": [],
   "source": []
  },
  {
   "cell_type": "code",
   "execution_count": null,
   "metadata": {},
   "outputs": [],
   "source": []
  },
  {
   "cell_type": "code",
   "execution_count": 134,
   "metadata": {},
   "outputs": [
    {
     "name": "stdout",
     "output_type": "stream",
     "text": [
      "ccs\n",
      "N1 13609\n",
      "N5 13103\n",
      "N10 12762\n",
      "N25 12016\n",
      "N50 10860\n",
      "N75 10175\n",
      "N90 9714\n",
      "N95 9475\n",
      "N99 9117\n",
      "accuracy stats:\n",
      "count    331750.000000\n",
      "mean         99.789657\n",
      "std           0.421530\n",
      "min          74.548667\n",
      "25%          99.723024\n",
      "50%          99.919668\n",
      "75%          99.973290\n",
      "max         100.000000\n",
      "Name: indelID, dtype: float64\n",
      "\n",
      "rel3.ontnhgri\n",
      "N1 366928\n",
      "N5 242913\n",
      "N10 192736\n",
      "N25 127505\n",
      "N50 74644\n",
      "N75 39035\n",
      "N90 19093\n",
      "N95 12711\n",
      "N99 4808\n",
      "accuracy stats:\n",
      "count    255831.000000\n",
      "mean         90.311426\n",
      "std           7.223082\n",
      "min          49.934564\n",
      "25%          88.398082\n",
      "50%          93.287769\n",
      "75%          95.247889\n",
      "max         100.000000\n",
      "Name: indelID, dtype: float64\n",
      "\n",
      "rel3.ontucd\n",
      "N1 93655\n",
      "N5 72835\n",
      "N10 63066\n",
      "N25 48711\n",
      "N50 35176\n",
      "N75 23424\n",
      "N90 12282\n",
      "N95 6343\n",
      "N99 1263\n",
      "accuracy stats:\n",
      "count    298323.000000\n",
      "mean         89.435221\n",
      "std           5.247332\n",
      "min          50.000000\n",
      "25%          87.810021\n",
      "50%          91.165310\n",
      "75%          92.870509\n",
      "max         100.000000\n",
      "Name: indelID, dtype: float64\n",
      "\n",
      "rel3.ontunottingham\n",
      "N1 440482\n",
      "N5 303191\n",
      "N10 236658\n",
      "N25 145363\n",
      "N50 75407\n",
      "N75 35137\n",
      "N90 16259\n",
      "N95 10028\n",
      "N99 3382\n",
      "accuracy stats:\n",
      "count    23050.000000\n",
      "mean        87.351893\n",
      "std          6.530125\n",
      "min         55.241018\n",
      "25%         84.516887\n",
      "50%         89.242322\n",
      "75%         91.817584\n",
      "max        100.000000\n",
      "Name: indelID, dtype: float64\n",
      "\n",
      "rel3.ontuwashington\n",
      "N1 667103\n",
      "N5 466920\n",
      "N10 374618\n",
      "N25 248751\n",
      "N50 145986\n",
      "N75 77056\n",
      "N90 38200\n",
      "N95 22592\n",
      "N99 7074\n",
      "accuracy stats:\n",
      "count    34224.000000\n",
      "mean        87.052504\n",
      "std          8.880672\n",
      "min         59.490986\n",
      "25%         77.558457\n",
      "50%         91.773951\n",
      "75%         94.733251\n",
      "max        100.000000\n",
      "Name: indelID, dtype: float64\n",
      "\n",
      "sqII.clr\n",
      "N1 70276\n",
      "N5 55914\n",
      "N10 48864\n",
      "N25 38629\n",
      "N50 29063\n",
      "N75 17364\n",
      "N90 9483\n",
      "N95 6266\n",
      "N99 2558\n",
      "accuracy stats:\n",
      "count    141207.000000\n",
      "mean         88.689652\n",
      "std           3.694428\n",
      "min          70.177157\n",
      "25%          87.449971\n",
      "50%          89.954486\n",
      "75%          91.168321\n",
      "max          98.701299\n",
      "Name: indelID, dtype: float64\n",
      "\n",
      "\n"
     ]
    }
   ],
   "source": [
    "def NX(data, xs):\n",
    "    xs.sort()\n",
    "    mult =  [x*1.0/100 for x in xs ]\n",
    "    s = sorted(list(data), reverse = True)\n",
    "    total = sum(s)\n",
    "    cur = 0\n",
    "    index = 0\n",
    "    rtn = []\n",
    "    for val in s:\n",
    "        cur += val\n",
    "        if(cur > total*mult[index]):\n",
    "            rtn.append( (val, xs[index]) )\n",
    "            index += 1\n",
    "            if(index == len(xs)):\n",
    "                break\n",
    "    return(rtn)\n",
    "\n",
    "def get_stats(df):\n",
    "    out = \"\"\n",
    "    for platform, group in df.groupby(\"platform\"):\n",
    "        out += platform + \"\\n\"\n",
    "        #print(group[\"length\"].describe())\n",
    "        #print( \"min:{}\\nmax:{}\".format(group[\"length\"].min(),group[\"length\"].max() ))\n",
    "        for N, x in NX(group[\"length\"], [1,5,10, 25, 50, 75, 90, 95, 99]):\n",
    "            out += \"N{} {}\\n\".format(x, N)\n",
    "        \n",
    "        for_qv = group[group.contig ==  \"chrX_v0.8|arrow|arrow\"]\n",
    "        out += \"accuracy stats:\\n\"\n",
    "        out +=  str(for_qv[\"indelID\"].describe())\n",
    "        out += \"\\n\\n\"\n",
    "\n",
    "    return(out)\n",
    "\n",
    "\n",
    "rtn = get_stats(df)\n",
    "open(\"stats.txt\", \"w+\").write(rtn)\n",
    "print(rtn)"
   ]
  },
  {
   "cell_type": "code",
   "execution_count": 16,
   "metadata": {},
   "outputs": [],
   "source": []
  },
  {
   "cell_type": "code",
   "execution_count": 21,
   "metadata": {},
   "outputs": [
    {
     "name": "stdout",
     "output_type": "stream",
     "text": [
      "(100, 110)\n",
      "(100, 110)\n"
     ]
    }
   ],
   "source": [
    "### READ IN THE READ LENGTH AND QUALITY DATA ###\n",
    "\n",
    "def convert_to_simple(mat):\n",
    "    print(mat.shape)\n",
    "    nr, nc = mat.shape\n",
    "    by_pos = {}\n",
    "    for i in range(nr):\n",
    "        if(i < MIN_LEN_HP ):\n",
    "            continue \n",
    "        for j in range(nc):\n",
    "            diff = j-i\n",
    "            if(diff not in by_pos):\n",
    "                by_pos[diff] = 0.0\n",
    "            by_pos[diff] += mat[i, j]\n",
    "    #print(by_pos)\n",
    "    total = sum(by_pos.values()); x = []; y = []\n",
    "    for key in by_pos:\n",
    "        x.append(key); y.append(by_pos[key]/total * 100 )\n",
    "\n",
    "    return( (x, y) )\n",
    "    \n",
    "# load matrix where cells represent coutns and row and oclumns represent observed hp length and real hp count.\n",
    "# e.g. accurate reads fall on the digaonal of this matrix\n",
    "ccs = np.load(\"results/ccs.mat.npy\")\n",
    "sqII = np.load(\"results/sqII.clr.mat.npy\")\n",
    "#ontucd = np.load(\"temp/rel3.ontucd.mat.npy\")\n",
    "#ontuw = np.load(\"temp/rel3.ontuwashington.mat.npy\")\n",
    "\n",
    "# merge matrix of HP error into a simple dataframe     \n",
    "tmp = {\"x\":[], \"y\":[], \"label\":[]}\n",
    "for mat, label in  zip([sqII, ccs], [\"sqII.clr\", \"ccs\"]):\n",
    "    x, y = convert_to_simple(mat)\n",
    "    labels = [label] *len(x)\n",
    "    tmp[\"x\"] += x\n",
    "    tmp[\"y\"] += y\n",
    "    tmp[\"label\"] += labels\n",
    "\n",
    "df = pd.DataFrame(tmp)"
   ]
  },
  {
   "cell_type": "code",
   "execution_count": 22,
   "metadata": {},
   "outputs": [
    {
     "data": {
      "image/png": "[encoded data removed]",
      "text/plain": [
       "<Figure size 1152x1440 with 2 Axes>"
      ]
     },
     "metadata": {
      "needs_background": "light"
     },
     "output_type": "display_data"
    }
   ],
   "source": [
    "lim = MIN_LEN_HP + 1\n",
    "fig, (ax1, ax2) = plt.subplots(2,1, figsize=(16,20), gridspec_kw={'height_ratios': [1.5, 1]})\n",
    "fig.subplots_adjust(hspace=0.05)\n",
    "\n",
    "\n",
    "\n",
    "for ax, bot, top in zip( [ax1, ax2], [85, 0], [100, 10]):\n",
    "    sns.barplot(x=\"x\", y=\"y\", hue=\"label\", palette=cmap, data=df[ df.x.abs() < lim  ] , ax = ax)\n",
    "    for p in ax.patches:\n",
    "        y = p.get_height()\n",
    "        x = p.get_x()\n",
    "        w = p.get_width()\n",
    "        if(  y < top and y > bot and y > 0.1 ):\n",
    "            tmp_fake=None\n",
    "            #ax.text(x, y, \"{:.1f}\".format(y), fontsize=16, rotation = 60, va = \"bottom\")\n",
    "            \n",
    "            \n",
    "    ax.get_legend().remove()\n",
    "    if(bot != 0 ):\n",
    "        ax.get_xaxis().set_visible(False)\n",
    "        ax.spines['right'].set_visible(False)\n",
    "        ax.spines['top'].set_visible(False)\n",
    "        ax.spines['bottom'].set_visible(False)\n",
    "        ax.set_ylabel(\"\")\n",
    "    else:\n",
    "        ax.spines['right'].set_visible(False)\n",
    "        ax.spines['top'].set_visible(False)\n",
    "\n",
    "    #ax.set_xlim(left=-6, right =6)\n",
    "    ax.set_yticks( np.arange(bot,top+2.5, 2.5) )\n",
    "    \n",
    "    ax.set_ylim(top=top, bottom = bot)\n",
    "\n",
    "#fig.legend(loc=\"lower center\", ncol=len(df.label.unique()))\n",
    "\n",
    "plt.savefig(f\"{ODIR}/Hist_homo.png\", dpi=300)\n",
    "plt.savefig(f\"{ODIR}/Hist_homo.pdf\")\n"
   ]
  }
 ],
 "metadata": {
  "kernelspec": {
   "display_name": "Python 3",
   "language": "python",
   "name": "python3"
  },
  "language_info": {
   "codemirror_mode": {
    "name": "ipython",
    "version": 3
   },
   "file_extension": ".py",
   "mimetype": "text/x-python",
   "name": "python",
   "nbconvert_exporter": "python",
   "pygments_lexer": "ipython3",
   "version": "3.6.7"
  }
 },
 "nbformat": 4,
 "nbformat_minor": 2
}
